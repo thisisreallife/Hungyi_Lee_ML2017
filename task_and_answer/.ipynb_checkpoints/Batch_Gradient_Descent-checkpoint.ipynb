{
 "cells": [
  {
   "cell_type": "markdown",
   "metadata": {
    "toc": true
   },
   "source": [
    "<h1>Table of Contents<span class=\"tocSkip\"></span></h1>\n",
    "<div class=\"toc\"><ul class=\"toc-item\"></ul></div>"
   ]
  },
  {
   "cell_type": "code",
   "execution_count": 76,
   "metadata": {
    "ExecuteTime": {
     "end_time": "2019-05-12T14:58:40.933319Z",
     "start_time": "2019-05-12T14:58:40.928321Z"
    },
    "collapsed": true
   },
   "outputs": [],
   "source": [
    "class LinearRegressionGD(object):\n",
    "\n",
    "    def __init__(self, eta=0.001, n_iter=20):\n",
    "        self.eta = eta\n",
    "        self.n_iter = n_iter\n",
    "\n",
    "    def fit(self, X, y):\n",
    "        self.w_ = np.zeros(1 + X.shape[1])\n",
    "        self.cost_ = []\n",
    "\n",
    "        for i in range(self.n_iter):\n",
    "            output = self.net_input(X)\n",
    "            errors = (y - output)\n",
    "            self.w_[1:] += self.eta * X.T.dot(errors)\n",
    "            self.w_[0] += self.eta * errors.sum()\n",
    "            cost = (errors**2).sum() / 2.0\n",
    "            self.cost_.append(cost)\n",
    "#             print(self.w_,cost)\n",
    "        return self\n",
    "\n",
    "    def net_input(self, X):\n",
    "        return np.dot(X, self.w_[1:]) + self.w_[0]"
   ]
  },
  {
   "cell_type": "markdown",
   "metadata": {},
   "source": [
    "用默认学习率，20000次可以看到基本收敛"
   ]
  },
  {
   "cell_type": "code",
   "execution_count": 111,
   "metadata": {
    "ExecuteTime": {
     "end_time": "2019-05-12T15:29:42.072173Z",
     "start_time": "2019-05-12T15:29:41.794292Z"
    }
   },
   "outputs": [
    {
     "data": {
      "text/plain": [
       "array([0.99992579, 2.00003264])"
      ]
     },
     "execution_count": 111,
     "metadata": {},
     "output_type": "execute_result"
    }
   ],
   "source": [
    "x_model = LinearRegressionGD(n_iter=20000, eta = 0.001)\n",
    "res = x_model.fit(np.array([1,2,3]).reshape(-1,1),np.array([3,5,7]))\n",
    "res.w_"
   ]
  },
  {
   "cell_type": "markdown",
   "metadata": {
    "ExecuteTime": {
     "end_time": "2019-05-12T15:30:09.067311Z",
     "start_time": "2019-05-12T15:30:09.063315Z"
    }
   },
   "source": [
    "学习率太小，增大100倍，200次即可收敛"
   ]
  },
  {
   "cell_type": "code",
   "execution_count": 117,
   "metadata": {
    "ExecuteTime": {
     "end_time": "2019-05-12T15:30:09.550544Z",
     "start_time": "2019-05-12T15:30:09.542544Z"
    }
   },
   "outputs": [
    {
     "data": {
      "text/plain": [
       "array([0.99993496, 2.00002861])"
      ]
     },
     "execution_count": 117,
     "metadata": {},
     "output_type": "execute_result"
    }
   ],
   "source": [
    "x_model = LinearRegressionGD(n_iter=200,eta = 0.1)\n",
    "res = x_model.fit(np.array([1,2,3]).reshape(-1,1),np.array([3,5,7]))\n",
    "res.w_"
   ]
  },
  {
   "cell_type": "code",
   "execution_count": null,
   "metadata": {
    "collapsed": true
   },
   "outputs": [],
   "source": [
    "学习率设置成0.2，发现100次计算，不能收敛，需要设置一个合理的学习率"
   ]
  },
  {
   "cell_type": "code",
   "execution_count": 106,
   "metadata": {
    "ExecuteTime": {
     "end_time": "2019-05-12T15:03:53.601332Z",
     "start_time": "2019-05-12T15:03:53.593334Z"
    }
   },
   "outputs": [
    {
     "data": {
      "text/plain": [
       "array([-4.46681514e+36, -1.01541207e+37])"
      ]
     },
     "execution_count": 106,
     "metadata": {},
     "output_type": "execute_result"
    }
   ],
   "source": [
    "x_model = LinearRegressionGD(n_iter=100,eta = 0.2)\n",
    "res = x_model.fit(np.array([1,2,3]).reshape(-1,1),np.array([3,5,7]))\n",
    "res.w_"
   ]
  },
  {
   "cell_type": "code",
   "execution_count": 98,
   "metadata": {
    "ExecuteTime": {
     "end_time": "2019-05-12T15:02:31.268739Z",
     "start_time": "2019-05-12T15:02:31.263741Z"
    },
    "collapsed": true
   },
   "outputs": [],
   "source": [
    "class LinearRegression():\n",
    "  \n",
    "  def __init__(self,eta = 0.001, niter= 100):\n",
    "    self.eta = eta\n",
    "    self.niter = niter\n",
    "    \n",
    "  def error(self,X,y):\n",
    "    return (y - np.dot(X, self.para[1:]) - self.para[0])\n",
    "    \n",
    "  def fit(self, X, y):\n",
    "    # initialization parameters\n",
    "    self.para = np.zeros(1 + X.shape[1])\n",
    "    self.cost_ = []\n",
    "    \n",
    "    # gradient decent\n",
    "    for i in range(self.niter):\n",
    "            self.para[1:] += self.eta * X.T.dot(self.error(X,y))\n",
    "            self.para[0] += self.eta * self.error(X,y).sum() \n",
    "            cost = (self.error(X,y)**2).sum()\n",
    "            self.cost_.append(cost)\n",
    "#             print(self.para,cost)\n",
    "    return self"
   ]
  },
  {
   "cell_type": "code",
   "execution_count": 99,
   "metadata": {
    "ExecuteTime": {
     "end_time": "2019-05-12T15:02:34.151040Z",
     "start_time": "2019-05-12T15:02:33.910948Z"
    }
   },
   "outputs": [
    {
     "data": {
      "text/plain": [
       "array([0.99700449, 2.00131781])"
      ]
     },
     "execution_count": 99,
     "metadata": {},
     "output_type": "execute_result"
    }
   ],
   "source": [
    "x_model = LinearRegression(niter=10000, eta = 0.001)\n",
    "res = x_model.fit(np.array([1,2,3]).reshape(-1,1),np.array([3,5,7]))\n",
    "res.para"
   ]
  },
  {
   "cell_type": "code",
   "execution_count": 100,
   "metadata": {
    "ExecuteTime": {
     "end_time": "2019-05-12T15:02:36.959131Z",
     "start_time": "2019-05-12T15:02:36.951144Z"
    }
   },
   "outputs": [
    {
     "data": {
      "text/plain": [
       "array([0.98727008, 2.00564262])"
      ]
     },
     "execution_count": 100,
     "metadata": {},
     "output_type": "execute_result"
    }
   ],
   "source": [
    "x_model = LinearRegression(niter=100, eta = 0.1)\n",
    "res = x_model.fit(np.array([1,2,3]).reshape(-1,1),np.array([3,5,7]))\n",
    "res.para"
   ]
  },
  {
   "cell_type": "code",
   "execution_count": 108,
   "metadata": {
    "ExecuteTime": {
     "end_time": "2019-05-12T15:04:00.915651Z",
     "start_time": "2019-05-12T15:04:00.907655Z"
    }
   },
   "outputs": [
    {
     "data": {
      "text/plain": [
       "array([-2.29138441e+25,  8.42404249e+24])"
      ]
     },
     "execution_count": 108,
     "metadata": {},
     "output_type": "execute_result"
    }
   ],
   "source": [
    "x_model = LinearRegression(niter=100, eta = 0.5)\n",
    "res = x_model.fit(np.array([1,2,3]).reshape(-1,1),np.array([3,5,7]))\n",
    "res.para"
   ]
  }
 ],
 "metadata": {
  "kernelspec": {
   "display_name": "Python 3",
   "language": "python",
   "name": "python3"
  },
  "language_info": {
   "codemirror_mode": {
    "name": "ipython",
    "version": 3
   },
   "file_extension": ".py",
   "mimetype": "text/x-python",
   "name": "python",
   "nbconvert_exporter": "python",
   "pygments_lexer": "ipython3",
   "version": "3.6.1"
  },
  "toc": {
   "base_numbering": 1,
   "nav_menu": {},
   "number_sections": true,
   "sideBar": true,
   "skip_h1_title": false,
   "title_cell": "Table of Contents",
   "title_sidebar": "Contents",
   "toc_cell": true,
   "toc_position": {},
   "toc_section_display": true,
   "toc_window_display": false
  },
  "varInspector": {
   "cols": {
    "lenName": 16,
    "lenType": 16,
    "lenVar": 40
   },
   "kernels_config": {
    "python": {
     "delete_cmd_postfix": "",
     "delete_cmd_prefix": "del ",
     "library": "var_list.py",
     "varRefreshCmd": "print(var_dic_list())"
    },
    "r": {
     "delete_cmd_postfix": ") ",
     "delete_cmd_prefix": "rm(",
     "library": "var_list.r",
     "varRefreshCmd": "cat(var_dic_list()) "
    }
   },
   "types_to_exclude": [
    "module",
    "function",
    "builtin_function_or_method",
    "instance",
    "_Feature"
   ],
   "window_display": false
  }
 },
 "nbformat": 4,
 "nbformat_minor": 2
}
